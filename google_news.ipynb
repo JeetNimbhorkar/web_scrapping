{
 "cells": [
  {
   "cell_type": "code",
   "execution_count": 1,
   "metadata": {},
   "outputs": [
    {
     "name": "stderr",
     "output_type": "stream",
     "text": [
      "[nltk_data] Downloading package punkt to\n",
      "[nltk_data]     C:\\Users\\19144\\AppData\\Roaming\\nltk_data...\n",
      "[nltk_data]   Package punkt is already up-to-date!\n"
     ]
    }
   ],
   "source": [
    "import requests\n",
    "from bs4 import BeautifulSoup\n",
    "from newspaper import Article\n",
    "import nltk\n",
    "import pandas\n",
    "nltk.download('punkt')\n",
    "\n",
    "r=requests.get(\"https://news.google.com/topics/CAAqJggKIiBDQkFTRWdvSUwyMHZNRGx6TVdZU0FtVnVHZ0pKVGlnQVAB?hl=en-IN&gl=IN&ceid=IN%3Aen\")\n",
    "c=r.content\n",
    "soup=BeautifulSoup(c,\"html.parser\")\n",
    "\n",
    "all=soup.find_all(\"div\",{\"class\":\"xrnccd F6Welf R7GTQ keNKEd j7vNaf\"})\n",
    "sub=soup.find_all(\"div\",{\"class\":\"SbNwzf\"})\n",
    "\n",
    "l=[]\n",
    "for x,y in zip(all,sub):\n",
    "    d={}\n",
    "    d[\"main news\"]=x.find(\"a\",{\"class\":\"DY5T1d\"}).text\n",
    "    d[\"sub news\"]=y.find(\"a\",{\"class\":\"DY5T1d\"}).text\n",
    "    article =Article(\"https://news.google.com\"+ x.find(\"a\",{\"class\":\"VDXfz\"})['href'][1:],language='en')\n",
    "    article.download()\n",
    "    article.parse()\n",
    "    article.nlp()\n",
    "    d[\"summary\"]=article.summary\n",
    "    l.append(d)\n",
    "\n",
    "df = pandas.DataFrame(l)\n",
    "\n",
    "\n",
    "#Function that prints the news that contains the entered key word.\n",
    "def search(df):\n",
    "    word = input(\"Enter word to be searched : \")\n",
    "    for i in range(0,len(df.index)-1):\n",
    "        for j in range(0,3):\n",
    "            element = df.iloc[i,j]\n",
    "            if word.lower() in element.lower():\n",
    "                print(\"Main news: \")\n",
    "                print(df.iloc[i,0])\n",
    "                print(\"Sub news: \")\n",
    "                print(df.iloc[i,1])\n",
    "                print(\"Summary: \")\n",
    "                print(df.iloc[i,2])\n",
    "                print(\"\\n\")\n",
    "                i = i+1\n",
    "    "
   ]
  },
  {
   "cell_type": "code",
   "execution_count": null,
   "metadata": {},
   "outputs": [],
   "source": [
    "#calling search function:\n",
    "search(df)"
   ]
  }
 ],
 "metadata": {
  "kernelspec": {
   "display_name": "Python 3",
   "language": "python",
   "name": "python3"
  },
  "language_info": {
   "codemirror_mode": {
    "name": "ipython",
    "version": 3
   },
   "file_extension": ".py",
   "mimetype": "text/x-python",
   "name": "python",
   "nbconvert_exporter": "python",
   "pygments_lexer": "ipython3",
   "version": "3.7.3"
  }
 },
 "nbformat": 4,
 "nbformat_minor": 2
}
